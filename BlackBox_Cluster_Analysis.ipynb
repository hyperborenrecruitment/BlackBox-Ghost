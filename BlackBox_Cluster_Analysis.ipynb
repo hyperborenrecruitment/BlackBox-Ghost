{
 "cells": [
  {
   "cell_type": "markdown",
   "id": "68f92470",
   "metadata": {},
   "source": [
    "# BlackBox:Ghost - Cluster Analysis Notebook"
   ]
  },
  {
   "cell_type": "markdown",
   "id": "fc5149c2",
   "metadata": {},
   "source": [
    "This notebook demonstrates a basic unsupervised learning approach to identifying anomalous behavior patterns in synthetic user log data."
   ]
  },
  {
   "cell_type": "code",
   "execution_count": null,
   "id": "43e98080",
   "metadata": {},
   "outputs": [],
   "source": [
    "\n",
    "import pandas as pd\n",
    "import numpy as np\n",
    "from sklearn.preprocessing import StandardScaler\n",
    "from sklearn.cluster import KMeans\n",
    "import matplotlib.pyplot as plt\n",
    "import seaborn as sns\n",
    "\n",
    "# Load dataset\n",
    "df = pd.read_csv(\"user_activity_logs.csv\")\n",
    "df['timestamp'] = pd.to_datetime(df['timestamp'])\n",
    "df['hour'] = df['timestamp'].dt.hour\n",
    "\n",
    "# Encode categorical features\n",
    "df_encoded = df.copy()\n",
    "df_encoded['status'] = df_encoded['status'].map({'success': 1, 'denied': 0})\n",
    "df_encoded['action'] = df_encoded['action'].astype('category').cat.codes\n",
    "df_encoded['user_id'] = df_encoded['user_id'].astype('category').cat.codes\n",
    "\n",
    "# Feature selection\n",
    "features = df_encoded[['user_id', 'action', 'status', 'duration_ms', 'hour']]\n",
    "\n",
    "# Standardize the features\n",
    "scaler = StandardScaler()\n",
    "X = scaler.fit_transform(features)\n",
    "\n",
    "# Apply KMeans clustering\n",
    "kmeans = KMeans(n_clusters=4, random_state=42)\n",
    "df['cluster'] = kmeans.fit_predict(X)\n",
    "\n",
    "# Visualization\n",
    "plt.figure(figsize=(10, 6))\n",
    "sns.scatterplot(data=df, x='hour', y='duration_ms', hue='cluster', palette='tab10')\n",
    "plt.title(\"User Activity Clusters by Hour and Duration\")\n",
    "plt.xlabel(\"Hour of Day\")\n",
    "plt.ylabel(\"Action Duration (ms)\")\n",
    "plt.grid(True)\n",
    "plt.show()\n"
   ]
  }
 ],
 "metadata": {},
 "nbformat": 4,
 "nbformat_minor": 5
}
